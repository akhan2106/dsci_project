{
 "cells": [
  {
   "cell_type": "code",
   "execution_count": null,
   "id": "a8b2a45c",
   "metadata": {},
   "outputs": [
    {
     "name": "stderr",
     "output_type": "stream",
     "text": [
      "── \u001b[1mAttaching packages\u001b[22m ─────────────────────────────────────── tidyverse 1.3.1 ──\n",
      "\n",
      "\u001b[32m✔\u001b[39m \u001b[34mggplot2\u001b[39m 3.3.6     \u001b[32m✔\u001b[39m \u001b[34mpurrr  \u001b[39m 0.3.4\n",
      "\u001b[32m✔\u001b[39m \u001b[34mtibble \u001b[39m 3.1.7     \u001b[32m✔\u001b[39m \u001b[34mdplyr  \u001b[39m 1.0.9\n",
      "\u001b[32m✔\u001b[39m \u001b[34mtidyr  \u001b[39m 1.2.0     \u001b[32m✔\u001b[39m \u001b[34mstringr\u001b[39m 1.4.0\n",
      "\u001b[32m✔\u001b[39m \u001b[34mreadr  \u001b[39m 2.1.2     \u001b[32m✔\u001b[39m \u001b[34mforcats\u001b[39m 0.5.1\n",
      "\n",
      "── \u001b[1mConflicts\u001b[22m ────────────────────────────────────────── tidyverse_conflicts() ──\n",
      "\u001b[31m✖\u001b[39m \u001b[34mdplyr\u001b[39m::\u001b[32mfilter()\u001b[39m masks \u001b[34mstats\u001b[39m::filter()\n",
      "\u001b[31m✖\u001b[39m \u001b[34mdplyr\u001b[39m::\u001b[32mlag()\u001b[39m    masks \u001b[34mstats\u001b[39m::lag()\n",
      "\n"
     ]
    }
   ],
   "source": [
    "library(tidyverse)\n",
    "library(repr)\n",
    "options(repr.matrix.max.rows = 6)"
   ]
  },
  {
   "cell_type": "code",
   "execution_count": null,
   "id": "b9210b5f",
   "metadata": {},
   "outputs": [
    {
     "name": "stderr",
     "output_type": "stream",
     "text": [
      "\u001b[1mRows: \u001b[22m\u001b[34m17897\u001b[39m \u001b[1mColumns: \u001b[22m\u001b[34m9\u001b[39m\n",
      "\u001b[36m──\u001b[39m \u001b[1mColumn specification\u001b[22m \u001b[36m────────────────────────────────────────────────────────\u001b[39m\n",
      "\u001b[1mDelimiter:\u001b[22m \",\"\n",
      "\u001b[32mdbl\u001b[39m (9): 140.5625, 55.68378214, -0.234571412, -0.699648398, 3.199832776, 19....\n",
      "\n",
      "\u001b[36mℹ\u001b[39m Use `spec()` to retrieve the full column specification for this data.\n",
      "\u001b[36mℹ\u001b[39m Specify the column types or set `show_col_types = FALSE` to quiet this message.\n"
     ]
    }
   ],
   "source": [
    "pulsar_data <- read_csv(\"data/HTRU_2.csv\")"
   ]
  },
  {
   "cell_type": "code",
   "execution_count": 14,
   "id": "662f3932",
   "metadata": {},
   "outputs": [],
   "source": [
    "colnames(pulsar_data) <- c('mean_profile', 'std_profile', \n",
    "                           'kurtosis_profile', 'skewness_profile', \n",
    "                           'mean_dmsnr', 'std_dmsnr', 'kurtosis_dmsnr', \n",
    "                           'skewness_dmsnr', \"is_pulsar\")\n"
   ]
  },
  {
   "cell_type": "code",
   "execution_count": 15,
   "id": "739531eb",
   "metadata": {},
   "outputs": [
    {
     "data": {
      "text/html": [
       "<table class=\"dataframe\">\n",
       "<caption>A spec_tbl_df: 17897 × 9</caption>\n",
       "<thead>\n",
       "\t<tr><th scope=col>mean_profile</th><th scope=col>std_profile</th><th scope=col>kurtosis_profile</th><th scope=col>skewness_profile</th><th scope=col>mean_dmsnr</th><th scope=col>std_dmsnr</th><th scope=col>kurtosis_dmsnr</th><th scope=col>skewness_dmsnr</th><th scope=col>is_pulsar</th></tr>\n",
       "\t<tr><th scope=col>&lt;dbl&gt;</th><th scope=col>&lt;dbl&gt;</th><th scope=col>&lt;dbl&gt;</th><th scope=col>&lt;dbl&gt;</th><th scope=col>&lt;dbl&gt;</th><th scope=col>&lt;dbl&gt;</th><th scope=col>&lt;dbl&gt;</th><th scope=col>&lt;dbl&gt;</th><th scope=col>&lt;dbl&gt;</th></tr>\n",
       "</thead>\n",
       "<tbody>\n",
       "\t<tr><td>102.5078</td><td>58.88243</td><td> 0.46531815</td><td>-0.5150879</td><td>1.677258</td><td>14.86015</td><td>10.576487</td><td>127.39358</td><td>0</td></tr>\n",
       "\t<tr><td>103.0156</td><td>39.34165</td><td> 0.32332837</td><td> 1.0511644</td><td>3.121237</td><td>21.74467</td><td> 7.735822</td><td> 63.17191</td><td>0</td></tr>\n",
       "\t<tr><td>136.7500</td><td>57.17845</td><td>-0.06841464</td><td>-0.6362384</td><td>3.642977</td><td>20.95928</td><td> 6.896499</td><td> 53.59366</td><td>0</td></tr>\n",
       "\t<tr><td>⋮</td><td>⋮</td><td>⋮</td><td>⋮</td><td>⋮</td><td>⋮</td><td>⋮</td><td>⋮</td><td>⋮</td></tr>\n",
       "\t<tr><td>119.3359</td><td>59.93594</td><td>0.1593631</td><td>-0.74302540</td><td> 21.430602</td><td>58.87200</td><td> 2.499517</td><td>  4.595173</td><td>0</td></tr>\n",
       "\t<tr><td>114.5078</td><td>53.90240</td><td>0.2011614</td><td>-0.02478884</td><td>  1.946488</td><td>13.38173</td><td>10.007967</td><td>134.238910</td><td>0</td></tr>\n",
       "\t<tr><td> 57.0625</td><td>85.79734</td><td>1.4063910</td><td> 0.08951971</td><td>188.306020</td><td>64.71256</td><td>-1.597527</td><td>  1.429475</td><td>0</td></tr>\n",
       "</tbody>\n",
       "</table>\n"
      ],
      "text/latex": [
       "A spec\\_tbl\\_df: 17897 × 9\n",
       "\\begin{tabular}{lllllllll}\n",
       " mean\\_profile & std\\_profile & kurtosis\\_profile & skewness\\_profile & mean\\_dmsnr & std\\_dmsnr & kurtosis\\_dmsnr & skewness\\_dmsnr & is\\_pulsar\\\\\n",
       " <dbl> & <dbl> & <dbl> & <dbl> & <dbl> & <dbl> & <dbl> & <dbl> & <dbl>\\\\\n",
       "\\hline\n",
       "\t 102.5078 & 58.88243 &  0.46531815 & -0.5150879 & 1.677258 & 14.86015 & 10.576487 & 127.39358 & 0\\\\\n",
       "\t 103.0156 & 39.34165 &  0.32332837 &  1.0511644 & 3.121237 & 21.74467 &  7.735822 &  63.17191 & 0\\\\\n",
       "\t 136.7500 & 57.17845 & -0.06841464 & -0.6362384 & 3.642977 & 20.95928 &  6.896499 &  53.59366 & 0\\\\\n",
       "\t ⋮ & ⋮ & ⋮ & ⋮ & ⋮ & ⋮ & ⋮ & ⋮ & ⋮\\\\\n",
       "\t 119.3359 & 59.93594 & 0.1593631 & -0.74302540 &  21.430602 & 58.87200 &  2.499517 &   4.595173 & 0\\\\\n",
       "\t 114.5078 & 53.90240 & 0.2011614 & -0.02478884 &   1.946488 & 13.38173 & 10.007967 & 134.238910 & 0\\\\\n",
       "\t  57.0625 & 85.79734 & 1.4063910 &  0.08951971 & 188.306020 & 64.71256 & -1.597527 &   1.429475 & 0\\\\\n",
       "\\end{tabular}\n"
      ],
      "text/markdown": [
       "\n",
       "A spec_tbl_df: 17897 × 9\n",
       "\n",
       "| mean_profile &lt;dbl&gt; | std_profile &lt;dbl&gt; | kurtosis_profile &lt;dbl&gt; | skewness_profile &lt;dbl&gt; | mean_dmsnr &lt;dbl&gt; | std_dmsnr &lt;dbl&gt; | kurtosis_dmsnr &lt;dbl&gt; | skewness_dmsnr &lt;dbl&gt; | is_pulsar &lt;dbl&gt; |\n",
       "|---|---|---|---|---|---|---|---|---|\n",
       "| 102.5078 | 58.88243 |  0.46531815 | -0.5150879 | 1.677258 | 14.86015 | 10.576487 | 127.39358 | 0 |\n",
       "| 103.0156 | 39.34165 |  0.32332837 |  1.0511644 | 3.121237 | 21.74467 |  7.735822 |  63.17191 | 0 |\n",
       "| 136.7500 | 57.17845 | -0.06841464 | -0.6362384 | 3.642977 | 20.95928 |  6.896499 |  53.59366 | 0 |\n",
       "| ⋮ | ⋮ | ⋮ | ⋮ | ⋮ | ⋮ | ⋮ | ⋮ | ⋮ |\n",
       "| 119.3359 | 59.93594 | 0.1593631 | -0.74302540 |  21.430602 | 58.87200 |  2.499517 |   4.595173 | 0 |\n",
       "| 114.5078 | 53.90240 | 0.2011614 | -0.02478884 |   1.946488 | 13.38173 | 10.007967 | 134.238910 | 0 |\n",
       "|  57.0625 | 85.79734 | 1.4063910 |  0.08951971 | 188.306020 | 64.71256 | -1.597527 |   1.429475 | 0 |\n",
       "\n"
      ],
      "text/plain": [
       "      mean_profile std_profile kurtosis_profile skewness_profile mean_dmsnr\n",
       "1     102.5078     58.88243     0.46531815      -0.5150879       1.677258  \n",
       "2     103.0156     39.34165     0.32332837       1.0511644       3.121237  \n",
       "3     136.7500     57.17845    -0.06841464      -0.6362384       3.642977  \n",
       "⋮     ⋮            ⋮           ⋮                ⋮                ⋮         \n",
       "17895 119.3359     59.93594    0.1593631        -0.74302540       21.430602\n",
       "17896 114.5078     53.90240    0.2011614        -0.02478884        1.946488\n",
       "17897  57.0625     85.79734    1.4063910         0.08951971      188.306020\n",
       "      std_dmsnr kurtosis_dmsnr skewness_dmsnr is_pulsar\n",
       "1     14.86015  10.576487      127.39358      0        \n",
       "2     21.74467   7.735822       63.17191      0        \n",
       "3     20.95928   6.896499       53.59366      0        \n",
       "⋮     ⋮         ⋮              ⋮              ⋮        \n",
       "17895 58.87200   2.499517        4.595173     0        \n",
       "17896 13.38173  10.007967      134.238910     0        \n",
       "17897 64.71256  -1.597527        1.429475     0        "
      ]
     },
     "metadata": {},
     "output_type": "display_data"
    }
   ],
   "source": [
    "pulsar_data"
   ]
  },
  {
   "cell_type": "code",
   "execution_count": 18,
   "id": "511d4b70",
   "metadata": {},
   "outputs": [
    {
     "data": {
      "text/html": [
       "<table class=\"dataframe\">\n",
       "<caption>A tibble: 17897 × 4</caption>\n",
       "<thead>\n",
       "\t<tr><th scope=col>mean_profile</th><th scope=col>kurtosis_profile</th><th scope=col>skewness_profile</th><th scope=col>is_pulsar</th></tr>\n",
       "\t<tr><th scope=col>&lt;dbl&gt;</th><th scope=col>&lt;dbl&gt;</th><th scope=col>&lt;dbl&gt;</th><th scope=col>&lt;dbl&gt;</th></tr>\n",
       "</thead>\n",
       "<tbody>\n",
       "\t<tr><td>102.5078</td><td> 0.46531815</td><td>-0.5150879</td><td>0</td></tr>\n",
       "\t<tr><td>103.0156</td><td> 0.32332837</td><td> 1.0511644</td><td>0</td></tr>\n",
       "\t<tr><td>136.7500</td><td>-0.06841464</td><td>-0.6362384</td><td>0</td></tr>\n",
       "\t<tr><td>⋮</td><td>⋮</td><td>⋮</td><td>⋮</td></tr>\n",
       "\t<tr><td>119.3359</td><td>0.1593631</td><td>-0.74302540</td><td>0</td></tr>\n",
       "\t<tr><td>114.5078</td><td>0.2011614</td><td>-0.02478884</td><td>0</td></tr>\n",
       "\t<tr><td> 57.0625</td><td>1.4063910</td><td> 0.08951971</td><td>0</td></tr>\n",
       "</tbody>\n",
       "</table>\n"
      ],
      "text/latex": [
       "A tibble: 17897 × 4\n",
       "\\begin{tabular}{llll}\n",
       " mean\\_profile & kurtosis\\_profile & skewness\\_profile & is\\_pulsar\\\\\n",
       " <dbl> & <dbl> & <dbl> & <dbl>\\\\\n",
       "\\hline\n",
       "\t 102.5078 &  0.46531815 & -0.5150879 & 0\\\\\n",
       "\t 103.0156 &  0.32332837 &  1.0511644 & 0\\\\\n",
       "\t 136.7500 & -0.06841464 & -0.6362384 & 0\\\\\n",
       "\t ⋮ & ⋮ & ⋮ & ⋮\\\\\n",
       "\t 119.3359 & 0.1593631 & -0.74302540 & 0\\\\\n",
       "\t 114.5078 & 0.2011614 & -0.02478884 & 0\\\\\n",
       "\t  57.0625 & 1.4063910 &  0.08951971 & 0\\\\\n",
       "\\end{tabular}\n"
      ],
      "text/markdown": [
       "\n",
       "A tibble: 17897 × 4\n",
       "\n",
       "| mean_profile &lt;dbl&gt; | kurtosis_profile &lt;dbl&gt; | skewness_profile &lt;dbl&gt; | is_pulsar &lt;dbl&gt; |\n",
       "|---|---|---|---|\n",
       "| 102.5078 |  0.46531815 | -0.5150879 | 0 |\n",
       "| 103.0156 |  0.32332837 |  1.0511644 | 0 |\n",
       "| 136.7500 | -0.06841464 | -0.6362384 | 0 |\n",
       "| ⋮ | ⋮ | ⋮ | ⋮ |\n",
       "| 119.3359 | 0.1593631 | -0.74302540 | 0 |\n",
       "| 114.5078 | 0.2011614 | -0.02478884 | 0 |\n",
       "|  57.0625 | 1.4063910 |  0.08951971 | 0 |\n",
       "\n"
      ],
      "text/plain": [
       "      mean_profile kurtosis_profile skewness_profile is_pulsar\n",
       "1     102.5078      0.46531815      -0.5150879       0        \n",
       "2     103.0156      0.32332837       1.0511644       0        \n",
       "3     136.7500     -0.06841464      -0.6362384       0        \n",
       "⋮     ⋮            ⋮                ⋮                ⋮        \n",
       "17895 119.3359     0.1593631        -0.74302540      0        \n",
       "17896 114.5078     0.2011614        -0.02478884      0        \n",
       "17897  57.0625     1.4063910         0.08951971      0        "
      ]
     },
     "metadata": {},
     "output_type": "display_data"
    }
   ],
   "source": [
    "select_pulsar_data<-pulsar_data|>\n",
    "    select(mean_profile, kurtosis_profile, skewness_profile,is_pulsar)\n",
    "\n",
    "select_pulsar_data"
   ]
  },
  {
   "cell_type": "code",
   "execution_count": null,
   "id": "fffd6a2b-b61d-4fb3-ad62-e64a2602a446",
   "metadata": {},
   "outputs": [],
   "source": []
  }
 ],
 "metadata": {
  "kernelspec": {
   "display_name": "R",
   "language": "R",
   "name": "ir"
  },
  "language_info": {
   "codemirror_mode": "r",
   "file_extension": ".r",
   "mimetype": "text/x-r-source",
   "name": "R",
   "pygments_lexer": "r",
   "version": "4.1.3"
  }
 },
 "nbformat": 4,
 "nbformat_minor": 5
}
