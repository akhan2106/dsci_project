{
 "cells": [
  {
   "cell_type": "code",
   "execution_count": null,
   "id": "6f8c7a91-81c7-4a88-be5a-0d1a17a20c85",
   "metadata": {},
   "outputs": [],
   "source": [
    "test2\n"
   ]
  }
 ],
 "metadata": {
  "kernelspec": {
   "display_name": "R",
   "language": "R",
   "name": "ir"
  },
  "language_info": {
   "codemirror_mode": "r",
   "file_extension": ".r",
   "mimetype": "text/x-r-source",
   "name": "R",
   "pygments_lexer": "r",
   "version": "4.1.3"
  }
 },
 "nbformat": 4,
 "nbformat_minor": 5
}
