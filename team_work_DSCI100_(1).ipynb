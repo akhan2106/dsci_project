{
 "cells": [
  {
   "cell_type": "markdown",
   "id": "b8a00658-733f-4bbc-8eb6-4b47846089db",
   "metadata": {
    "tags": []
   },
   "source": [
    "# DSCI 100 Group project reflection\n",
    "\n",
    "The purpose of this individual report is to give you an avenue to present your viewpoint as to how the project went, how the group worked together, and your role in the group. Each group member must complete this form to report on the contributions of **yourself** and the other group members. That information be used to assign you a team work grade, and can also, if needed, be used to adjust final project grades of individuals. This is a private report, meaning that none of your classmates will see this report. Please fill out this form as a Jupyter notebook and then convert it to **html** for submission to Canvas.\n",
    "\n",
    "\n",
    "Evaluate\teach\tmember\tof\tyour\tgroup\tby\twriting\tthe\tnumber\tthat\tbest\treflects\tthe\textent\tto\twhich\the/she\n",
    "participated,\tprepared,\thelped\tthe\tgroup\texcel,\tand\twas\ta\tteam\tplayer.\tUse\tthe\tfollowing\tratings:\n",
    "\n",
    "| Rating | Description                                 |\n",
    "|--------|---------------------------------------------|\n",
    "| 4\t     | Usually\t(over\t90%\tof\tthe\ttime)            |\n",
    "| 3\t     | Frequently\t(more\toften\tthan\tnot)           |\n",
    "| 2\t     | Sometimes\t(less\tthan\thalf\tthe\ttime)      |\n",
    "| 1\t     | Rarely\t(never\tor\tonce\tin\ta\tgreat\twhile) |\n"
   ]
  },
  {
   "cell_type": "markdown",
   "id": "b85786a1-e263-4344-a7e9-e79ffbea05f0",
   "metadata": {},
   "source": [
    "**Preparation.**\tPrepared\tfor\t group\tmeetings and presentations;\thas spent time becoming familiar with the material relevant for the project; understands the project's goal and expectations;\tdoes what they say they will do on time;\tattends\tand\tis\ton\ttime\tto\tgroup\tmeetings and presentations."
   ]
  },
  {
   "cell_type": "markdown",
   "id": "4dddc2c4-8056-4909-a1d8-6a8e57816652",
   "metadata": {
    "tags": []
   },
   "source": [
    "| Group member name | Preparation Rating \t&\tcommunication rating |\n",
    "|-------------------|--------|\n",
    "|                   |        |\n",
    "|                   |        |\n",
    "|                   |        |"
   ]
  },
  {
   "cell_type": "markdown",
   "id": "5489f1ed-d7ee-4b55-8cba-c8e85200ccd9",
   "metadata": {},
   "source": [
    "**Participation\t&\tcommunication.**\tArticulates\tideas\teffectively\twhen speaking\tor\twriting;\twork\tis without\tgrammatical\terrors;\tlistens\tto\tothers;\tencourages\tothers\tto\ttalk."
   ]
  },
  {
   "cell_type": "markdown",
   "id": "bb0ee405-9b1a-4591-8fa1-093fa3c2a918",
   "metadata": {
    "tags": []
   },
   "source": [
    "| Group member name | Participation\t&\tcommunication rating |\n",
    "|-------------------|--------|\n",
    "|                   |        |\n",
    "|                   |        |\n",
    "|                   |        |"
   ]
  },
  {
   "cell_type": "markdown",
   "id": "32e7345c-d66f-424d-8cc4-93bfca165037",
   "metadata": {},
   "source": [
    "**Helps\tgroup\texcel.**\tExpresses\tgreat\tinterest\tin\tgroup\tsuccess\tby\tevaluating\n",
    "ideas\tand\tsuggestions;\tinitiates\tproblem\tsolving;\tinfluences\tand\tencourages\n",
    "others\tto\tset\tup\thigh\tstandards;\tdoesn't\taccept\tjust\tany\tidea\tbut\tlooks\tfor\n",
    "the\tbest\tideas;\tstays\tmotivated\tfrom\tbeginning\tto\tend\tof\tproject."
   ]
  },
  {
   "cell_type": "markdown",
   "id": "16c3c8e9-4e41-4f38-a49a-5b00582b584a",
   "metadata": {
    "tags": []
   },
   "source": [
    "| Group member name | Helps group excel rating |\n",
    "|-------------------|--------|\n",
    "|                   |        |\n",
    "|                   |        |\n",
    "|                   |        |\n",
    "|                   |        |"
   ]
  },
  {
   "cell_type": "markdown",
   "id": "3f8ca9b4-516d-42f4-bf94-cce313d167cc",
   "metadata": {
    "tags": []
   },
   "source": [
    "Team player (cooperation). Knows when to be a leader and a follower; keeps an open mind; compromises when appropriate; can take criticism; respects others."
   ]
  },
  {
   "cell_type": "markdown",
   "id": "8b18f3cf-5a62-44ae-8559-9f56c5ff8c87",
   "metadata": {
    "tags": []
   },
   "source": [
    "| Group member name | Team player (cooperation) rating |\n",
    "|-------------------|--------|\n",
    "|                   |        |\n",
    "|                   |        |\n",
    "|                   |        |\n",
    "|                   |        |"
   ]
  },
  {
   "cell_type": "markdown",
   "id": "c4219c0e-59ec-4680-84af-9fef5ebec513",
   "metadata": {},
   "source": [
    "Below, briefly describe the specific contribution(s) each team member (including yourself) made to your project. Point form is fine. Specifically, comment on the following areas:\n",
    "\n",
    "how the team worked together as a whole, including:\n",
    "what was your role in the group? That is, what sort of things did you do to contribute to the evolution of the project?\n",
    "what were the roles of others in your group?\n",
    "what went well and poorly throughout the team project experience?"
   ]
  }
 ],
 "metadata": {
  "kernelspec": {
   "display_name": "R",
   "language": "R",
   "name": "ir"
  },
  "language_info": {
   "codemirror_mode": "r",
   "file_extension": ".r",
   "mimetype": "text/x-r-source",
   "name": "R",
   "pygments_lexer": "r",
   "version": "4.2.3"
  }
 },
 "nbformat": 4,
 "nbformat_minor": 5
}
