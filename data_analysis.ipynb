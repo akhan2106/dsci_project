{
 "cells": [
  {
   "cell_type": "code",
   "execution_count": 14,
   "id": "6f8c7a91-81c7-4a88-be5a-0d1a17a20c85",
   "metadata": {},
   "outputs": [],
   "source": [
    "library(tidyverse)\n",
    "library(repr)\n",
    "options(repr.matrix.max.rows = 6)"
   ]
  },
  {
   "cell_type": "code",
   "execution_count": 15,
   "id": "d11181d1-2588-4c27-89b9-d2253462b88b",
   "metadata": {},
   "outputs": [
    {
     "name": "stderr",
     "output_type": "stream",
     "text": [
      "\u001b[1mRows: \u001b[22m\u001b[34m17897\u001b[39m \u001b[1mColumns: \u001b[22m\u001b[34m9\u001b[39m\n",
      "\u001b[36m──\u001b[39m \u001b[1mColumn specification\u001b[22m \u001b[36m────────────────────────────────────────────────────────\u001b[39m\n",
      "\u001b[1mDelimiter:\u001b[22m \",\"\n",
      "\u001b[32mdbl\u001b[39m (9): 140.5625, 55.68378214, -0.234571412, -0.699648398, 3.199832776, 19....\n",
      "\n",
      "\u001b[36mℹ\u001b[39m Use `spec()` to retrieve the full column specification for this data.\n",
      "\u001b[36mℹ\u001b[39m Specify the column types or set `show_col_types = FALSE` to quiet this message.\n"
     ]
    }
   ],
   "source": [
    "pulsar_data <- read_csv(\"data/HTRU_2.csv\")"
   ]
  },
  {
   "cell_type": "code",
   "execution_count": 16,
   "id": "0b132ab4-4963-4757-965f-b74363ceb231",
   "metadata": {},
   "outputs": [],
   "source": [
    "colnames(pulsar_data) <- c(\"Mean of the integrated profile\",\"Standard deviation of the integrated profile.\",\n",
    "                           \"Excess kurtosis of the integrated profile.\", \"Skewness of the integrated profile.\",\n",
    "                           \"Mean of the DM-SNR curve.\", \"Standard deviation of the DM-SNR curve.\",\n",
    "                           \"Excess kurtosis of the DM-SNR curve\", \"Skewness of the DM-SNR curve.\",\n",
    "                           \"Class\")\n"
   ]
  },
  {
   "cell_type": "code",
   "execution_count": 4,
   "id": "e3746c27-7d11-433e-a4de-04169f512014",
   "metadata": {},
   "outputs": [
    {
     "ename": "ERROR",
     "evalue": "Error in eval(expr, envir, enclos): object 'pulsar_data' not found\n",
     "output_type": "error",
     "traceback": [
      "Error in eval(expr, envir, enclos): object 'pulsar_data' not found\nTraceback:\n"
     ]
    }
   ],
   "source": [
    "pulsar_data"
   ]
  },
  {
   "cell_type": "code",
   "execution_count": 2,
   "id": "c6852a8a-14d9-41e6-8fac-4da2a93d7c0e",
   "metadata": {},
   "outputs": [
    {
     "name": "stdout",
     "output_type": "stream",
     "text": [
      "[1] \"I cry\"\n"
     ]
    }
   ],
   "source": [
    "Test<-print(\"I cry\")"
   ]
  },
  {
   "cell_type": "code",
   "execution_count": null,
   "id": "caa90c80-c67b-459d-80c2-987072e578b5",
   "metadata": {},
   "outputs": [],
   "source": []
  }
 ],
 "metadata": {
  "kernelspec": {
   "display_name": "R",
   "language": "R",
   "name": "ir"
  },
  "language_info": {
   "codemirror_mode": "r",
   "file_extension": ".r",
   "mimetype": "text/x-r-source",
   "name": "R",
   "pygments_lexer": "r",
   "version": "4.1.3"
  }
 },
 "nbformat": 4,
 "nbformat_minor": 5
}
